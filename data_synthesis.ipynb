{
 "cells": [
  {
   "cell_type": "code",
   "execution_count": 1,
   "metadata": {},
   "outputs": [],
   "source": [
    "import numpy as np\n",
    "import h5py\n",
    "import time\n",
    "import logging\n",
    "import matplotlib.pyplot as plt\n",
    "import pandas as pd\n",
    "import random"
   ]
  },
  {
   "cell_type": "code",
   "execution_count": 11,
   "metadata": {},
   "outputs": [],
   "source": [
    "    def read_data( hf, target_device, house_list):\n",
    "        \"\"\"Load data of houses\n",
    "        \"\"\"\n",
    "\n",
    "        if len(house_list) == 0:\n",
    "            return [], []\n",
    "\n",
    "        else:\n",
    "            aggregates = []\n",
    "            targets = []\n",
    "            timestamps=[]\n",
    "        \n",
    "            for house in house_list:\n",
    "\n",
    "                aggregate = hf[house]['aggregate'][:]\n",
    "                target = hf[house][target_device][:]\n",
    "                timestamp=hf[house]['unix'][:]\n",
    "                \n",
    "                aggregates.append(aggregate)\n",
    "                targets.append(target)\n",
    "                timestamps.append(timestamp)\n",
    "            aggregates = np.concatenate(aggregates, axis=0)\n",
    "            targets = np.concatenate(targets, axis=0)\n",
    "            timestamps=np.concatenate(timestamps,axis=0)\n",
    "            \n",
    "            return aggregates, targets,timestamps"
   ]
  },
  {
   "cell_type": "code",
   "execution_count": 4,
   "metadata": {},
   "outputs": [],
   "source": [
   
   ]
  },
  {
   "cell_type": "code",
   "execution_count": 14,
   "metadata": {},
   "outputs": [],
   "source": [
    "import os\n",
    "\n",
    "coefficient=[0.8,0.9,1,1.1,1.2,1.3,1.4] \n",
    "dw_activations = {}\n",
    "house =6\n",
    "path = 'app_activations/microwave/'\n",
    "for i in coefficient:\n",
    "    folder_path = path+'h'+str(house)+'/'\n",
    "    file_list = os.listdir(folder_path)\n",
    "    d_activations =[]\n",
    "    for numpy_file in file_list:\n",
    "        file_path = os.path.join(folder_path, numpy_file)\n",
    "        activation_tem=np.load(file_path)\n",
    "        d_activations.append(activation_tem*i)\n",
    "    dw_activations[i]=d_activations\n"
   ]
  },
  {
   "cell_type": "code",
   "execution_count": 17,
   "metadata": {},
   "outputs": [],
   "source": [
    "def produce_data(application,m_off,m_on,m_threshold,num,ls):\n",
    "    \n",
    "    target_device=application\n",
    "    train_house_list=[\"house\"+str(num)]\n",
    "    hf = h5py.File('data.h5', 'r')\n",
    "    (train_x, train_y,timestamps) = read_data(hf, target_device, train_house_list)\n",
    "  \n",
    "    train_x=train_x[0:int(len(train_x)*1)]\n",
    "    aggregation=train_x\n",
    "    order=[]\n",
    "    for i in range(0,len(aggregation),8640):\n",
    "        order.append(i) \n",
    "    y=[0]*len(aggregation)\n",
    "    print(len(y),len(aggregation))\n",
    "    # print(random.choice(ls))\n",
    "    for i in range(0, len(order)-1):\n",
    "        start_index=order[i]  \n",
    "        end_index=order[i+1]    \n",
    "        random_hs = random.choice(ls) \n",
    "        activate = random.choice(dw_activations[random_hs])\n",
    "        \n",
    "        synthetic_index=random.randint(start_index,end_index-len(activate))\n",
    "        for i in range(0,len(activate)):\n",
    "            y[synthetic_index+i]=y[synthetic_index+i]+activate[i]\n",
    "            aggregation[synthetic_index+i]=aggregation[synthetic_index+i]+activate[i]\n",
    "    print(len(y))\n",
    "    df=pd.DataFrame({application:y,'Aggregate':aggregation})\n",
    "    path=\"data/train\"+str(num)+\".csv\"\n",
    "    df.to_csv(path, index=False, header=True)"
   ]
  },
  {
   "cell_type": "code",
   "execution_count": 18,
   "metadata": {},
   "outputs": [],
   "source": [
    "# ls=[\"house20\"]\n",
    "ls=[0.8,0.9,1,1.1,1.2,1.3,1.4]\n",
    "for num in [18]:\n",
    "    produce_data('microwave',30,12,200,num,ls)"
   ]
  }
 ],
 "metadata": {
  "kernelspec": {
   "display_name": "sci",
   "language": "python",
   "name": "sci"
  }
 },
 "nbformat": 4,
 "nbformat_minor": 2
}
