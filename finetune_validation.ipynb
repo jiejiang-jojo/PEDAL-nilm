{
 "cells": [
  {
   "cell_type": "code",
   "execution_count": 1,
   "id": "c48fe502",
   "metadata": {},
   "outputs": [],
   "source": [
    "%matplotlib ipympl\n",
    "import numpy as np\n",
    "import pandas as pd\n",
    "import matplotlib.pyplot as plt\n",
    "import h5py\n",
    "import os  "
   ]
  },
  {
   "cell_type": "markdown",
   "id": "1c22619c",
   "metadata": {},
   "source": [
    "# extract background "
   ]
  },
  {
   "cell_type": "code",
   "execution_count": 2,
   "id": "f64dd713",
   "metadata": {},
   "outputs": [],
   "source": [
    "def extract_consecutive_ones_blocks(A, B, min_len):\n",
    "    consecutive_ones_blocks_B = []\n",
    "    current_block_B = []\n",
    "\n",
    "    for idx, num in enumerate(A):\n",
    "        if num == 1:\n",
    "            current_block_B.append(B[idx])\n",
    "        elif current_block_B:\n",
    "            if len(current_block_B)>min_len:\n",
    "                consecutive_ones_blocks_B.append(np.array(current_block_B))\n",
    "            current_block_B = []\n",
    "\n",
    "    if current_block_B and len(current_block_B)>min_len:\n",
    "        consecutive_ones_blocks_B.append(np.array(current_block_B))\n",
    "\n",
    "    return consecutive_ones_blocks_B"
   ]
  },
  {
   "cell_type": "code",
   "execution_count": 3,
   "id": "58cbaef1",
   "metadata": {},
   "outputs": [],
   "source": [
    "    def read_data( hf, target_device, house_list):\n",
    "        \"\"\"Load data of houses\n",
    "        \"\"\"\n",
    "\n",
    "        if len(house_list) == 0:\n",
    "            return [], []\n",
    "\n",
    "        else:\n",
    "            aggregates = []    \n",
    "            for house in house_list:\n",
    "                aggregate = hf[house]['aggregate'][:]\n",
    "                aggregates.append(aggregate)\n",
    "            aggregates = np.concatenate(aggregates, axis=0)\n",
    "            return aggregates"
   ]
  },
  {
   "cell_type": "code",
   "execution_count": 4,
   "id": "4dfd1c2a",
   "metadata": {},
   "outputs": [],
   "source": [
    "# extract activations from predictions\n",
    "\n",
    "app = 'aggregation'\n",
    "path ='app_activations/'+app+'/'\n",
    "seq_len = 2\n",
    "min_len = 900\n",
    "no =16\n",
    "for i in range(1,6):\n",
    "# for i in [2]:\n",
    "    if i==4:\n",
    "        continue\n",
    "    print('house '+str(i))\n",
    "    \n",
    "    train_house_list=[\"house\"+str(i)]\n",
    "    hf = h5py.File('uk_kettle.h5', 'r')\n",
    "    prediction = read_data(hf, app, train_house_list)\n",
    "    effective_indexes = np.zeros(len(prediction))\n",
    "    for j in range(len(prediction)):\n",
    "        if prediction[j]<1000:\n",
    "            effective_indexes[j] = 1\n",
    "    # np.save(\"result\",effective_indexes)\n",
    "    activations = extract_consecutive_ones_blocks(effective_indexes, prediction, min_len)\n",
    "    print(len(activations))\n",
    "    for c, k in enumerate(activations):\n",
    "        file_path = os.path.join(path, 'uk' + str(i), 'a' + str(c) + '.npy') \n",
    "        dir_path = os.path.dirname(file_path)    \n",
    "        if not os.path.exists(dir_path):  \n",
    "            os.makedirs(dir_path)  \n",
    "        np.save(path+'uk'+str(i)+'/a'+str(c)+'.npy', k)"
   ]
  },
  {
   "cell_type": "markdown",
   "id": "a6fd6051",
   "metadata": {},
   "source": [
    "# Synthsis validate"
   ]
  },
  {
   "cell_type": "code",
   "execution_count": 2,
   "id": "375fd29a",
   "metadata": {},
   "outputs": [],
   "source": [
    "    def read_data( hf, target_device, house_list):\n",
    "        \"\"\"Load data of houses\n",
    "        \"\"\"\n",
    "\n",
    "        if len(house_list) == 0:\n",
    "            return [], []\n",
    "\n",
    "        else:\n",
    "            aggregates = []\n",
    "            targets = []\n",
    "            timestamps=[]\n",
    "        \n",
    "            for house in house_list:\n",
    "\n",
    "                aggregate = hf[house]['aggregate'][:]\n",
    "                target = hf[house][target_device][:]\n",
    "                # timestamp=hf[house]['unix'][:]\n",
    "                \n",
    "                aggregates.append(aggregate)\n",
    "                targets.append(target)\n",
    "                # timestamps.append(timestamp)\n",
    "            aggregates = np.concatenate(aggregates, axis=0)\n",
    "            targets = np.concatenate(targets, axis=0)\n",
    "            # timestamps=np.concatenate(timestamps,axis=0)\n",
    "            \n",
    "            return aggregates, targets#,timestamps"
   ]
  },
  {
   "cell_type": "code",
   "execution_count": 16,
   "id": "bc744faf",
   "metadata": {},
   "outputs": [],
   "source": [
    "def load_data(root_dir,outlier,num_drop = 0):\n",
    "    samples=[]\n",
    "    for subdir, dirs, files in os.walk(root_dir):  \n",
    "        \n",
    "                for file in files:  \n",
    "                    if file.endswith('.npy'):\n",
    "                        path = os.path.join(subdir, file) \n",
    "                        waveform = np.load(path)\n",
    "                        samples.append(waveform)\n",
    "    return samples\n",
    "                            "
   ]
  },
  {
   "cell_type": "code",
   "execution_count": 30,
   "id": "213c70da",
   "metadata": {},
   "outputs": [],
   "source": [
    "background_noise = {}\n",
    "for i in [16]:\n",
    "# for i in range(1,21):\n",
    "    if i==14:\n",
    "        continue\n",
    "    path= 'path'+str(i)+'/'\n",
    "    a=load_data(path,0)\n",
    "    background_noise[i]=a"
   ]
  },
  {
   "cell_type": "code",
   "execution_count": 37,
   "id": "995944fe",
   "metadata": {},
   "outputs": [],
   "source": [
    "# x=np.concatenate(background_noise[16])\n",
    "# y = np.zeros(len(x))\n",
    "target_device='dishwasher'\n",
    "train_house_list=[\"house16\"]\n",
    "hf = h5py.File('path', 'r')\n",
    "(x, y) = read_data(hf, target_device, train_house_list)\n",
    "df=pd.DataFrame({'dishwasher':y,'Aggregate':x})\n",
    "path=\"data/train16.csv\"\n",
    "df.to_csv(path, index=False, header=True)"
   ]
  },
  {
   "cell_type": "code",
   "execution_count": 5,
   "id": "a43df37a",
   "metadata": {},
   "outputs": [],
   "source": [
    "target_device='dishwasher'\n",
    "train_house_list=[\"house20\"]\n",
    "hf = h5py.File('path', 'r')\n",
    "(x, y) = read_data(hf, target_device, train_house_list)\n",
    "y=np.zeros(len(x))\n",
    "df=pd.DataFrame({'dishwasher':y,'Aggregate':x})\n",
    "path=\"data/validate20.csv\"\n",
    "df.to_csv(path, index=False, header=True)"
   ]
  }
 ],
 "metadata": {
  "kernelspec": {
   "display_name": "sci",
   "language": "python",
   "name": "sci"
  }
 },
 "nbformat": 4,
 "nbformat_minor": 5
}
